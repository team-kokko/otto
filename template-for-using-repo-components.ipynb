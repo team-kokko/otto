{
 "cells": [
  {
   "cell_type": "code",
   "execution_count": 1,
   "id": "6ed23764",
   "metadata": {
    "execution": {
     "iopub.execute_input": "2022-11-28T13:39:22.226940Z",
     "iopub.status.busy": "2022-11-28T13:39:22.226480Z",
     "iopub.status.idle": "2022-11-28T13:39:26.891218Z",
     "shell.execute_reply": "2022-11-28T13:39:26.889707Z"
    },
    "papermill": {
     "duration": 4.672067,
     "end_time": "2022-11-28T13:39:26.894217",
     "exception": false,
     "start_time": "2022-11-28T13:39:22.222150",
     "status": "completed"
    },
    "tags": []
   },
   "outputs": [
    {
     "name": "stdout",
     "output_type": "stream",
     "text": [
      "Cloning into 'kaggle_otto'...\r\n",
      "remote: Enumerating objects: 69, done.\u001b[K\r\n",
      "remote: Counting objects: 100% (69/69), done.\u001b[K\r\n",
      "remote: Compressing objects: 100% (55/55), done.\u001b[K\r\n",
      "remote: Total 69 (delta 26), reused 44 (delta 10), pack-reused 0\u001b[K\r\n",
      "Unpacking objects: 100% (69/69), 43.14 KiB | 242.00 KiB/s, done.\r\n"
     ]
    }
   ],
   "source": [
    "from kaggle_secrets import UserSecretsClient\n",
    "user_secrets = UserSecretsClient()\n",
    "personal_access_token = user_secrets.get_secret(\"personal_access_token\")\n",
    "\n",
    "!rm -rf /kaggle/working/kaggle_ottoå\n",
    "!git clone https://$personal_access_token@github.com/coffeemountain/kaggle_otto.git"
   ]
  }
 ],
 "metadata": {
  "kernelspec": {
   "display_name": "Python 3",
   "language": "python",
   "name": "python3"
  },
  "language_info": {
   "codemirror_mode": {
    "name": "ipython",
    "version": 3
   },
   "file_extension": ".py",
   "mimetype": "text/x-python",
   "name": "python",
   "nbconvert_exporter": "python",
   "pygments_lexer": "ipython3",
   "version": "3.7.12"
  },
  "papermill": {
   "default_parameters": {},
   "duration": 13.982746,
   "end_time": "2022-11-28T13:39:27.619382",
   "environment_variables": {},
   "exception": null,
   "input_path": "__notebook__.ipynb",
   "output_path": "__notebook__.ipynb",
   "parameters": {},
   "start_time": "2022-11-28T13:39:13.636636",
   "version": "2.3.4"
  }
 },
 "nbformat": 4,
 "nbformat_minor": 5
}
