{
  "nbformat": 4,
  "nbformat_minor": 0,
  "metadata": {
    "colab": {
      "provenance": [],
      "machine_shape": "hm",
      "toc_visible": true,
      "authorship_tag": "ABX9TyNlYtLlsFurgU0BMS6dtyQg",
      "include_colab_link": true
    },
    "kernelspec": {
      "name": "python3",
      "display_name": "Python 3"
    },
    "language_info": {
      "name": "python"
    },
    "gpuClass": "standard",
    "widgets": {
      "application/vnd.jupyter.widget-state+json": {
        "5ec1713732ed4dfbb535fdf35c08da56": {
          "model_module": "@jupyter-widgets/controls",
          "model_name": "HBoxModel",
          "model_module_version": "1.5.0",
          "state": {
            "_dom_classes": [],
            "_model_module": "@jupyter-widgets/controls",
            "_model_module_version": "1.5.0",
            "_model_name": "HBoxModel",
            "_view_count": null,
            "_view_module": "@jupyter-widgets/controls",
            "_view_module_version": "1.5.0",
            "_view_name": "HBoxView",
            "box_style": "",
            "children": [
              "IPY_MODEL_f158a4ac654b4688a8446c9654caba8a",
              "IPY_MODEL_807b6564eaca4375807cc0f4f0309521",
              "IPY_MODEL_5d58d8518f4a4d23915887ac5c451e3d"
            ],
            "layout": "IPY_MODEL_7025f1c3d6494b48bcfcc6c0aaea2b31"
          }
        },
        "f158a4ac654b4688a8446c9654caba8a": {
          "model_module": "@jupyter-widgets/controls",
          "model_name": "HTMLModel",
          "model_module_version": "1.5.0",
          "state": {
            "_dom_classes": [],
            "_model_module": "@jupyter-widgets/controls",
            "_model_module_version": "1.5.0",
            "_model_name": "HTMLModel",
            "_view_count": null,
            "_view_module": "@jupyter-widgets/controls",
            "_view_module_version": "1.5.0",
            "_view_name": "HTMLView",
            "description": "",
            "description_tooltip": null,
            "layout": "IPY_MODEL_05d1233720154573889c652988577687",
            "placeholder": "​",
            "style": "IPY_MODEL_7aab11cf2adf4134a5c59f9cab6c3f4c",
            "value": "100%"
          }
        },
        "807b6564eaca4375807cc0f4f0309521": {
          "model_module": "@jupyter-widgets/controls",
          "model_name": "FloatProgressModel",
          "model_module_version": "1.5.0",
          "state": {
            "_dom_classes": [],
            "_model_module": "@jupyter-widgets/controls",
            "_model_module_version": "1.5.0",
            "_model_name": "FloatProgressModel",
            "_view_count": null,
            "_view_module": "@jupyter-widgets/controls",
            "_view_module_version": "1.5.0",
            "_view_name": "ProgressView",
            "bar_style": "success",
            "description": "",
            "description_tooltip": null,
            "layout": "IPY_MODEL_d040908e89d14d29866907dc689ea291",
            "max": 5,
            "min": 0,
            "orientation": "horizontal",
            "style": "IPY_MODEL_19b1eb0d41e74fe9819473b31fff39ab",
            "value": 5
          }
        },
        "5d58d8518f4a4d23915887ac5c451e3d": {
          "model_module": "@jupyter-widgets/controls",
          "model_name": "HTMLModel",
          "model_module_version": "1.5.0",
          "state": {
            "_dom_classes": [],
            "_model_module": "@jupyter-widgets/controls",
            "_model_module_version": "1.5.0",
            "_model_name": "HTMLModel",
            "_view_count": null,
            "_view_module": "@jupyter-widgets/controls",
            "_view_module_version": "1.5.0",
            "_view_name": "HTMLView",
            "description": "",
            "description_tooltip": null,
            "layout": "IPY_MODEL_aae0c252ae13480f84e1d32fe1033a23",
            "placeholder": "​",
            "style": "IPY_MODEL_a23a201a50c84ab38d68a5fd49263d1c",
            "value": " 5/5 [01:39&lt;00:00, 19.59s/it]"
          }
        },
        "7025f1c3d6494b48bcfcc6c0aaea2b31": {
          "model_module": "@jupyter-widgets/base",
          "model_name": "LayoutModel",
          "model_module_version": "1.2.0",
          "state": {
            "_model_module": "@jupyter-widgets/base",
            "_model_module_version": "1.2.0",
            "_model_name": "LayoutModel",
            "_view_count": null,
            "_view_module": "@jupyter-widgets/base",
            "_view_module_version": "1.2.0",
            "_view_name": "LayoutView",
            "align_content": null,
            "align_items": null,
            "align_self": null,
            "border": null,
            "bottom": null,
            "display": null,
            "flex": null,
            "flex_flow": null,
            "grid_area": null,
            "grid_auto_columns": null,
            "grid_auto_flow": null,
            "grid_auto_rows": null,
            "grid_column": null,
            "grid_gap": null,
            "grid_row": null,
            "grid_template_areas": null,
            "grid_template_columns": null,
            "grid_template_rows": null,
            "height": null,
            "justify_content": null,
            "justify_items": null,
            "left": null,
            "margin": null,
            "max_height": null,
            "max_width": null,
            "min_height": null,
            "min_width": null,
            "object_fit": null,
            "object_position": null,
            "order": null,
            "overflow": null,
            "overflow_x": null,
            "overflow_y": null,
            "padding": null,
            "right": null,
            "top": null,
            "visibility": null,
            "width": null
          }
        },
        "05d1233720154573889c652988577687": {
          "model_module": "@jupyter-widgets/base",
          "model_name": "LayoutModel",
          "model_module_version": "1.2.0",
          "state": {
            "_model_module": "@jupyter-widgets/base",
            "_model_module_version": "1.2.0",
            "_model_name": "LayoutModel",
            "_view_count": null,
            "_view_module": "@jupyter-widgets/base",
            "_view_module_version": "1.2.0",
            "_view_name": "LayoutView",
            "align_content": null,
            "align_items": null,
            "align_self": null,
            "border": null,
            "bottom": null,
            "display": null,
            "flex": null,
            "flex_flow": null,
            "grid_area": null,
            "grid_auto_columns": null,
            "grid_auto_flow": null,
            "grid_auto_rows": null,
            "grid_column": null,
            "grid_gap": null,
            "grid_row": null,
            "grid_template_areas": null,
            "grid_template_columns": null,
            "grid_template_rows": null,
            "height": null,
            "justify_content": null,
            "justify_items": null,
            "left": null,
            "margin": null,
            "max_height": null,
            "max_width": null,
            "min_height": null,
            "min_width": null,
            "object_fit": null,
            "object_position": null,
            "order": null,
            "overflow": null,
            "overflow_x": null,
            "overflow_y": null,
            "padding": null,
            "right": null,
            "top": null,
            "visibility": null,
            "width": null
          }
        },
        "7aab11cf2adf4134a5c59f9cab6c3f4c": {
          "model_module": "@jupyter-widgets/controls",
          "model_name": "DescriptionStyleModel",
          "model_module_version": "1.5.0",
          "state": {
            "_model_module": "@jupyter-widgets/controls",
            "_model_module_version": "1.5.0",
            "_model_name": "DescriptionStyleModel",
            "_view_count": null,
            "_view_module": "@jupyter-widgets/base",
            "_view_module_version": "1.2.0",
            "_view_name": "StyleView",
            "description_width": ""
          }
        },
        "d040908e89d14d29866907dc689ea291": {
          "model_module": "@jupyter-widgets/base",
          "model_name": "LayoutModel",
          "model_module_version": "1.2.0",
          "state": {
            "_model_module": "@jupyter-widgets/base",
            "_model_module_version": "1.2.0",
            "_model_name": "LayoutModel",
            "_view_count": null,
            "_view_module": "@jupyter-widgets/base",
            "_view_module_version": "1.2.0",
            "_view_name": "LayoutView",
            "align_content": null,
            "align_items": null,
            "align_self": null,
            "border": null,
            "bottom": null,
            "display": null,
            "flex": null,
            "flex_flow": null,
            "grid_area": null,
            "grid_auto_columns": null,
            "grid_auto_flow": null,
            "grid_auto_rows": null,
            "grid_column": null,
            "grid_gap": null,
            "grid_row": null,
            "grid_template_areas": null,
            "grid_template_columns": null,
            "grid_template_rows": null,
            "height": null,
            "justify_content": null,
            "justify_items": null,
            "left": null,
            "margin": null,
            "max_height": null,
            "max_width": null,
            "min_height": null,
            "min_width": null,
            "object_fit": null,
            "object_position": null,
            "order": null,
            "overflow": null,
            "overflow_x": null,
            "overflow_y": null,
            "padding": null,
            "right": null,
            "top": null,
            "visibility": null,
            "width": null
          }
        },
        "19b1eb0d41e74fe9819473b31fff39ab": {
          "model_module": "@jupyter-widgets/controls",
          "model_name": "ProgressStyleModel",
          "model_module_version": "1.5.0",
          "state": {
            "_model_module": "@jupyter-widgets/controls",
            "_model_module_version": "1.5.0",
            "_model_name": "ProgressStyleModel",
            "_view_count": null,
            "_view_module": "@jupyter-widgets/base",
            "_view_module_version": "1.2.0",
            "_view_name": "StyleView",
            "bar_color": null,
            "description_width": ""
          }
        },
        "aae0c252ae13480f84e1d32fe1033a23": {
          "model_module": "@jupyter-widgets/base",
          "model_name": "LayoutModel",
          "model_module_version": "1.2.0",
          "state": {
            "_model_module": "@jupyter-widgets/base",
            "_model_module_version": "1.2.0",
            "_model_name": "LayoutModel",
            "_view_count": null,
            "_view_module": "@jupyter-widgets/base",
            "_view_module_version": "1.2.0",
            "_view_name": "LayoutView",
            "align_content": null,
            "align_items": null,
            "align_self": null,
            "border": null,
            "bottom": null,
            "display": null,
            "flex": null,
            "flex_flow": null,
            "grid_area": null,
            "grid_auto_columns": null,
            "grid_auto_flow": null,
            "grid_auto_rows": null,
            "grid_column": null,
            "grid_gap": null,
            "grid_row": null,
            "grid_template_areas": null,
            "grid_template_columns": null,
            "grid_template_rows": null,
            "height": null,
            "justify_content": null,
            "justify_items": null,
            "left": null,
            "margin": null,
            "max_height": null,
            "max_width": null,
            "min_height": null,
            "min_width": null,
            "object_fit": null,
            "object_position": null,
            "order": null,
            "overflow": null,
            "overflow_x": null,
            "overflow_y": null,
            "padding": null,
            "right": null,
            "top": null,
            "visibility": null,
            "width": null
          }
        },
        "a23a201a50c84ab38d68a5fd49263d1c": {
          "model_module": "@jupyter-widgets/controls",
          "model_name": "DescriptionStyleModel",
          "model_module_version": "1.5.0",
          "state": {
            "_model_module": "@jupyter-widgets/controls",
            "_model_module_version": "1.5.0",
            "_model_name": "DescriptionStyleModel",
            "_view_count": null,
            "_view_module": "@jupyter-widgets/base",
            "_view_module_version": "1.2.0",
            "_view_name": "StyleView",
            "description_width": ""
          }
        },
        "df17bf8cc8ca4747b3dc356135f1c884": {
          "model_module": "@jupyter-widgets/controls",
          "model_name": "HBoxModel",
          "model_module_version": "1.5.0",
          "state": {
            "_dom_classes": [],
            "_model_module": "@jupyter-widgets/controls",
            "_model_module_version": "1.5.0",
            "_model_name": "HBoxModel",
            "_view_count": null,
            "_view_module": "@jupyter-widgets/controls",
            "_view_module_version": "1.5.0",
            "_view_name": "HBoxView",
            "box_style": "",
            "children": [
              "IPY_MODEL_e55c275bf5284779b2a12050b4c9122e",
              "IPY_MODEL_e9bd0bdf42104ed88f397eeda6c2d690",
              "IPY_MODEL_87d5b68b64c7471d89f1b0cd60fbe2de"
            ],
            "layout": "IPY_MODEL_47014849cf9d47909114e3388472c6a4"
          }
        },
        "e55c275bf5284779b2a12050b4c9122e": {
          "model_module": "@jupyter-widgets/controls",
          "model_name": "HTMLModel",
          "model_module_version": "1.5.0",
          "state": {
            "_dom_classes": [],
            "_model_module": "@jupyter-widgets/controls",
            "_model_module_version": "1.5.0",
            "_model_name": "HTMLModel",
            "_view_count": null,
            "_view_module": "@jupyter-widgets/controls",
            "_view_module_version": "1.5.0",
            "_view_name": "HTMLView",
            "description": "",
            "description_tooltip": null,
            "layout": "IPY_MODEL_7b0a604219954a4088c0131549f2f422",
            "placeholder": "​",
            "style": "IPY_MODEL_8bd82de36e6d4e02aabdb82338566c13",
            "value": "100%"
          }
        },
        "e9bd0bdf42104ed88f397eeda6c2d690": {
          "model_module": "@jupyter-widgets/controls",
          "model_name": "FloatProgressModel",
          "model_module_version": "1.5.0",
          "state": {
            "_dom_classes": [],
            "_model_module": "@jupyter-widgets/controls",
            "_model_module_version": "1.5.0",
            "_model_name": "FloatProgressModel",
            "_view_count": null,
            "_view_module": "@jupyter-widgets/controls",
            "_view_module_version": "1.5.0",
            "_view_name": "ProgressView",
            "bar_style": "success",
            "description": "",
            "description_tooltip": null,
            "layout": "IPY_MODEL_0edc8d50d3cc4dc99ca9c11a7b8d51ed",
            "max": 5,
            "min": 0,
            "orientation": "horizontal",
            "style": "IPY_MODEL_9ee6ac951be34714a8c1a3dd86ea165a",
            "value": 5
          }
        },
        "87d5b68b64c7471d89f1b0cd60fbe2de": {
          "model_module": "@jupyter-widgets/controls",
          "model_name": "HTMLModel",
          "model_module_version": "1.5.0",
          "state": {
            "_dom_classes": [],
            "_model_module": "@jupyter-widgets/controls",
            "_model_module_version": "1.5.0",
            "_model_name": "HTMLModel",
            "_view_count": null,
            "_view_module": "@jupyter-widgets/controls",
            "_view_module_version": "1.5.0",
            "_view_name": "HTMLView",
            "description": "",
            "description_tooltip": null,
            "layout": "IPY_MODEL_946dd1f44da447d8a52e6a4d63c9f7ec",
            "placeholder": "​",
            "style": "IPY_MODEL_064a80e72e9e4d90888fc12a26bf1312",
            "value": " 5/5 [01:36&lt;00:00, 19.54s/it]"
          }
        },
        "47014849cf9d47909114e3388472c6a4": {
          "model_module": "@jupyter-widgets/base",
          "model_name": "LayoutModel",
          "model_module_version": "1.2.0",
          "state": {
            "_model_module": "@jupyter-widgets/base",
            "_model_module_version": "1.2.0",
            "_model_name": "LayoutModel",
            "_view_count": null,
            "_view_module": "@jupyter-widgets/base",
            "_view_module_version": "1.2.0",
            "_view_name": "LayoutView",
            "align_content": null,
            "align_items": null,
            "align_self": null,
            "border": null,
            "bottom": null,
            "display": null,
            "flex": null,
            "flex_flow": null,
            "grid_area": null,
            "grid_auto_columns": null,
            "grid_auto_flow": null,
            "grid_auto_rows": null,
            "grid_column": null,
            "grid_gap": null,
            "grid_row": null,
            "grid_template_areas": null,
            "grid_template_columns": null,
            "grid_template_rows": null,
            "height": null,
            "justify_content": null,
            "justify_items": null,
            "left": null,
            "margin": null,
            "max_height": null,
            "max_width": null,
            "min_height": null,
            "min_width": null,
            "object_fit": null,
            "object_position": null,
            "order": null,
            "overflow": null,
            "overflow_x": null,
            "overflow_y": null,
            "padding": null,
            "right": null,
            "top": null,
            "visibility": null,
            "width": null
          }
        },
        "7b0a604219954a4088c0131549f2f422": {
          "model_module": "@jupyter-widgets/base",
          "model_name": "LayoutModel",
          "model_module_version": "1.2.0",
          "state": {
            "_model_module": "@jupyter-widgets/base",
            "_model_module_version": "1.2.0",
            "_model_name": "LayoutModel",
            "_view_count": null,
            "_view_module": "@jupyter-widgets/base",
            "_view_module_version": "1.2.0",
            "_view_name": "LayoutView",
            "align_content": null,
            "align_items": null,
            "align_self": null,
            "border": null,
            "bottom": null,
            "display": null,
            "flex": null,
            "flex_flow": null,
            "grid_area": null,
            "grid_auto_columns": null,
            "grid_auto_flow": null,
            "grid_auto_rows": null,
            "grid_column": null,
            "grid_gap": null,
            "grid_row": null,
            "grid_template_areas": null,
            "grid_template_columns": null,
            "grid_template_rows": null,
            "height": null,
            "justify_content": null,
            "justify_items": null,
            "left": null,
            "margin": null,
            "max_height": null,
            "max_width": null,
            "min_height": null,
            "min_width": null,
            "object_fit": null,
            "object_position": null,
            "order": null,
            "overflow": null,
            "overflow_x": null,
            "overflow_y": null,
            "padding": null,
            "right": null,
            "top": null,
            "visibility": null,
            "width": null
          }
        },
        "8bd82de36e6d4e02aabdb82338566c13": {
          "model_module": "@jupyter-widgets/controls",
          "model_name": "DescriptionStyleModel",
          "model_module_version": "1.5.0",
          "state": {
            "_model_module": "@jupyter-widgets/controls",
            "_model_module_version": "1.5.0",
            "_model_name": "DescriptionStyleModel",
            "_view_count": null,
            "_view_module": "@jupyter-widgets/base",
            "_view_module_version": "1.2.0",
            "_view_name": "StyleView",
            "description_width": ""
          }
        },
        "0edc8d50d3cc4dc99ca9c11a7b8d51ed": {
          "model_module": "@jupyter-widgets/base",
          "model_name": "LayoutModel",
          "model_module_version": "1.2.0",
          "state": {
            "_model_module": "@jupyter-widgets/base",
            "_model_module_version": "1.2.0",
            "_model_name": "LayoutModel",
            "_view_count": null,
            "_view_module": "@jupyter-widgets/base",
            "_view_module_version": "1.2.0",
            "_view_name": "LayoutView",
            "align_content": null,
            "align_items": null,
            "align_self": null,
            "border": null,
            "bottom": null,
            "display": null,
            "flex": null,
            "flex_flow": null,
            "grid_area": null,
            "grid_auto_columns": null,
            "grid_auto_flow": null,
            "grid_auto_rows": null,
            "grid_column": null,
            "grid_gap": null,
            "grid_row": null,
            "grid_template_areas": null,
            "grid_template_columns": null,
            "grid_template_rows": null,
            "height": null,
            "justify_content": null,
            "justify_items": null,
            "left": null,
            "margin": null,
            "max_height": null,
            "max_width": null,
            "min_height": null,
            "min_width": null,
            "object_fit": null,
            "object_position": null,
            "order": null,
            "overflow": null,
            "overflow_x": null,
            "overflow_y": null,
            "padding": null,
            "right": null,
            "top": null,
            "visibility": null,
            "width": null
          }
        },
        "9ee6ac951be34714a8c1a3dd86ea165a": {
          "model_module": "@jupyter-widgets/controls",
          "model_name": "ProgressStyleModel",
          "model_module_version": "1.5.0",
          "state": {
            "_model_module": "@jupyter-widgets/controls",
            "_model_module_version": "1.5.0",
            "_model_name": "ProgressStyleModel",
            "_view_count": null,
            "_view_module": "@jupyter-widgets/base",
            "_view_module_version": "1.2.0",
            "_view_name": "StyleView",
            "bar_color": null,
            "description_width": ""
          }
        },
        "946dd1f44da447d8a52e6a4d63c9f7ec": {
          "model_module": "@jupyter-widgets/base",
          "model_name": "LayoutModel",
          "model_module_version": "1.2.0",
          "state": {
            "_model_module": "@jupyter-widgets/base",
            "_model_module_version": "1.2.0",
            "_model_name": "LayoutModel",
            "_view_count": null,
            "_view_module": "@jupyter-widgets/base",
            "_view_module_version": "1.2.0",
            "_view_name": "LayoutView",
            "align_content": null,
            "align_items": null,
            "align_self": null,
            "border": null,
            "bottom": null,
            "display": null,
            "flex": null,
            "flex_flow": null,
            "grid_area": null,
            "grid_auto_columns": null,
            "grid_auto_flow": null,
            "grid_auto_rows": null,
            "grid_column": null,
            "grid_gap": null,
            "grid_row": null,
            "grid_template_areas": null,
            "grid_template_columns": null,
            "grid_template_rows": null,
            "height": null,
            "justify_content": null,
            "justify_items": null,
            "left": null,
            "margin": null,
            "max_height": null,
            "max_width": null,
            "min_height": null,
            "min_width": null,
            "object_fit": null,
            "object_position": null,
            "order": null,
            "overflow": null,
            "overflow_x": null,
            "overflow_y": null,
            "padding": null,
            "right": null,
            "top": null,
            "visibility": null,
            "width": null
          }
        },
        "064a80e72e9e4d90888fc12a26bf1312": {
          "model_module": "@jupyter-widgets/controls",
          "model_name": "DescriptionStyleModel",
          "model_module_version": "1.5.0",
          "state": {
            "_model_module": "@jupyter-widgets/controls",
            "_model_module_version": "1.5.0",
            "_model_name": "DescriptionStyleModel",
            "_view_count": null,
            "_view_module": "@jupyter-widgets/base",
            "_view_module_version": "1.2.0",
            "_view_name": "StyleView",
            "description_width": ""
          }
        }
      }
    }
  },
  "cells": [
    {
      "cell_type": "markdown",
      "metadata": {
        "id": "view-in-github",
        "colab_type": "text"
      },
      "source": [
        "<a href=\"https://colab.research.google.com/github/coffeemountain/kaggle_otto/blob/main/notebooks/baseline.ipynb\" target=\"_parent\"><img src=\"https://colab.research.google.com/assets/colab-badge.svg\" alt=\"Open In Colab\"/></a>"
      ]
    },
    {
      "cell_type": "code",
      "source": [
        "#メモリ削減関数\n",
        "\n",
        "def reduce_mem_usage(df):\n",
        "    \"\"\" iterate through all the columns of a dataframe and modify the data type\n",
        "        to reduce memory usage.        \n",
        "    \"\"\"\n",
        "    start_mem = df.memory_usage().sum() / 1024**2\n",
        "    print('Memory usage of dataframe is {:.2f} MB'.format(start_mem))\n",
        "\n",
        "    for col in df.columns:\n",
        "        col_type = df[col].dtype\n",
        "\n",
        "        if col_type != object:\n",
        "            c_min = df[col].min()\n",
        "            c_max = df[col].max()\n",
        "            if str(col_type)[:3] == 'int':\n",
        "                if c_min > np.iinfo(np.int8).min and c_max < np.iinfo(np.int8).max:\n",
        "                    df[col] = df[col].astype(np.int8)\n",
        "                elif c_min > np.iinfo(np.int16).min and c_max < np.iinfo(np.int16).max:\n",
        "                    df[col] = df[col].astype(np.int16)\n",
        "                elif c_min > np.iinfo(np.int32).min and c_max < np.iinfo(np.int32).max:\n",
        "                    df[col] = df[col].astype(np.int32)\n",
        "                elif c_min > np.iinfo(np.int64).min and c_max < np.iinfo(np.int64).max:\n",
        "                    df[col] = df[col].astype(np.int64)  \n",
        "            else:\n",
        "                if c_min > np.finfo(np.float16).min and c_max < np.finfo(np.float16).max:\n",
        "                    df[col] = df[col].astype(np.float16)\n",
        "                elif c_min > np.finfo(np.float32).min and c_max < np.finfo(np.float32).max:\n",
        "                    df[col] = df[col].astype(np.float32)\n",
        "                else:\n",
        "                    df[col] = df[col].astype(np.float64)\n",
        "        else:\n",
        "            df[col] = df[col].astype('category')\n",
        "\n",
        "    end_mem = df.memory_usage().sum() / 1024**2\n",
        "    print('Memory usage after optimization is: {:.2f} MB'.format(end_mem))\n",
        "    print('Decreased by {:.1f}%'.format(100 * (start_mem - end_mem) / start_mem))\n",
        "\n",
        "    return df"
      ],
      "metadata": {
        "id": "PHTJ1-QOFR5e"
      },
      "execution_count": 14,
      "outputs": []
    },
    {
      "cell_type": "code",
      "execution_count": 15,
      "metadata": {
        "colab": {
          "base_uri": "https://localhost:8080/"
        },
        "id": "CRuUpgPcFJmz",
        "outputId": "d6bb4cbe-39a1-4213-b8f7-bbddbed781f5"
      },
      "outputs": [
        {
          "output_type": "stream",
          "name": "stdout",
          "text": [
            "Drive already mounted at /content/drive; to attempt to forcibly remount, call drive.mount(\"/content/drive\", force_remount=True).\n",
            "Cloning into '/content/drive/MyDrive/otto/kaggle_otto'...\n",
            "remote: Enumerating objects: 310, done.\u001b[K\n",
            "remote: Counting objects: 100% (218/218), done.\u001b[K\n",
            "remote: Compressing objects: 100% (137/137), done.\u001b[K\n",
            "remote: Total 310 (delta 134), reused 132 (delta 75), pack-reused 92\u001b[K\n",
            "Receiving objects: 100% (310/310), 339.08 KiB | 3.90 MiB/s, done.\n",
            "Resolving deltas: 100% (167/167), done.\n"
          ]
        }
      ],
      "source": [
        "from google.colab import drive\n",
        "drive.mount('/content/drive')\n",
        "\n",
        "import os\n",
        "\n",
        "OTTO_DIR = '/content/drive/MyDrive/otto'\n",
        "KAGGLE_JSON = OTTO_DIR + '/kaggle.json'\n",
        "! mkdir -p ~/.kaggle && cp $KAGGLE_JSON ~/.kaggle/ && chmod 600 ~/.kaggle/kaggle.json\n",
        "\n",
        "with open(OTTO_DIR + '/access_token.txt', 'r') as f:\n",
        "  access_token = f.read()\n",
        "\n",
        "GITHUB_DIR = OTTO_DIR + '/kaggle_otto'\n",
        "! rm -rf $GITHUB_DIR\n",
        "! git clone -b gcs-func-add https://$access_token@github.com/coffeemountain/kaggle_otto.git $GITHUB_DIR"
      ]
    },
    {
      "cell_type": "code",
      "source": [
        "import numpy as np\n",
        "import pandas as pd\n",
        "import collections\n",
        "from collections import Counter\n",
        "import lightgbm as lgb\n",
        "import pickle\n",
        "import glob\n",
        "import gc\n",
        "import sys\n",
        "from tqdm.notebook import tqdm"
      ],
      "metadata": {
        "id": "NkbUANY2IGye"
      },
      "execution_count": 16,
      "outputs": []
    },
    {
      "cell_type": "code",
      "source": [
        "class Dataset:\n",
        "\n",
        "  def _load(self, filename):\n",
        "    return reduce_mem_usage(pd.read_parquet(filename))\n",
        "\n",
        "  def _prepare_features(self, candidates, features_dir, features):\n",
        "\n",
        "    def _check(df):\n",
        "      \"\"\"merge後のデータに問題がないか。軽く確認\"\"\"\n",
        "\n",
        "      if df.isnull().any():\n",
        "        message = 'データにnullが存在'\n",
        "        raise Exception(message)\n",
        "\n",
        "    def _collect_target_feature_files():\n",
        "      target_files = []\n",
        "      for feature_file in glob.glob(features_dir + '/*'):\n",
        "\n",
        "        # ファイル名から特徴名を取得\n",
        "        feature_name = feature_file.split('/')[-1].split('.')[0]\n",
        "\n",
        "        # 含めたい特徴かチェック\n",
        "        if feature_name in features:\n",
        "          target_files.append(feature_file)\n",
        "      \n",
        "      # ほしい特徴量のファイルすべて取得できているかチェック\n",
        "      if len(target_files) != len(features):\n",
        "        message = f\"見つからない特徴量があります。\\nexcept: {features}.\\nactual: {target_files}\"\n",
        "        raise Exception(message)\n",
        "\n",
        "      return target_files\n",
        "\n",
        "    target_files = _collect_target_feature_files()\n",
        "    for file_ in tqdm(target_files):\n",
        "        # FIXME: 特徴作成側で対処後、drop_duplicatesは消す\n",
        "        feature_df = self._load(file_).drop_duplicates()\n",
        "        candidates = candidates.merge(feature_df, on=['session', 'aid'], how='left', copy=False)\n",
        "\n",
        "        print('check')\n",
        "        # _check(candidates)\n",
        "        del feature_df\n",
        "\n",
        "    return candidates\n",
        "\n",
        "  def _prepare_labels(self, candidates, labels_file, TARGET):\n",
        "    labels = pd.read_parquet(labels_file)\n",
        "    labels = labels[labels['type'] == TARGET]\n",
        "    labels['aid'] = labels['ground_truth'].explode().astype('int32')\n",
        "    labels[TARGET] = 1\n",
        "\n",
        "    candidates = candidates.merge(labels[['session', 'aid', TARGET]], on=['session', 'aid'], how='left', copy=False).fillna(0)\n",
        "    return candidates\n",
        "\n",
        "  def prepare_dataset(self, candidates_file, features_dir, features, labels_file, target):\n",
        "    print('1. prepare candidates')\n",
        "    candidates = self._load(candidates_file)\n",
        "\n",
        "    print('2. prepare features')\n",
        "    # 特徴量をロードして、candidatesとmerge\n",
        "    candidates_with_features = self._prepare_features(candidates, features_dir, features)\n",
        "\n",
        "    print('3. prepare labels')\n",
        "    # 正解ラベルをロードして、candidates_with_featureとmerge\n",
        "    candidates_with_labels = self._prepare_labels(candidates_with_features, labels_file, target)\n",
        "\n",
        "    return candidates_with_labels"
      ],
      "metadata": {
        "id": "DneHXNxgdVdc"
      },
      "execution_count": 17,
      "outputs": []
    },
    {
      "cell_type": "code",
      "source": [
        "TRAIN_CANDIDATES_FILE = OTTO_DIR + '/share/example_train2/candidates/click_train_v1.qpt'\n",
        "TRAIN_LABELS_FILE = OTTO_DIR + '/share/example_train2/test_labels.parquet'\n",
        "TEST_CANDIDATES_FILE = OTTO_DIR + '/share/example_train2/candidates/click_test_v1.qpt'\n",
        "TEST_LABELS_FILE = OTTO_DIR + '/share/example_train2/test_labels.parquet'\n",
        "FEATURES_DIR = OTTO_DIR + '/share/example_train2/features'\n",
        "print(glob.glob(FEATURES_DIR + '/*'))\n",
        "FEATURES = [\n",
        "    'item_item_count',\n",
        "    'item_user_count',\n",
        "    'item_buy_ratio',\n",
        "    'user_user_count',\n",
        "    'user_item_count',\n",
        "    # 'user_buy_ratio',\n",
        "]\n",
        "\n",
        "TARGET = 'clicks'\n",
        "\n",
        "train_data = Dataset().prepare_dataset(\n",
        "    candidates_file=TRAIN_CANDIDATES_FILE,\n",
        "    features_dir=FEATURES_DIR,\n",
        "    features=FEATURES,\n",
        "    labels_file=TRAIN_LABELS_FILE,\n",
        "    target=TARGET,\n",
        ")"
      ],
      "metadata": {
        "colab": {
          "base_uri": "https://localhost:8080/",
          "height": 538,
          "referenced_widgets": [
            "5ec1713732ed4dfbb535fdf35c08da56",
            "f158a4ac654b4688a8446c9654caba8a",
            "807b6564eaca4375807cc0f4f0309521",
            "5d58d8518f4a4d23915887ac5c451e3d",
            "7025f1c3d6494b48bcfcc6c0aaea2b31",
            "05d1233720154573889c652988577687",
            "7aab11cf2adf4134a5c59f9cab6c3f4c",
            "d040908e89d14d29866907dc689ea291",
            "19b1eb0d41e74fe9819473b31fff39ab",
            "aae0c252ae13480f84e1d32fe1033a23",
            "a23a201a50c84ab38d68a5fd49263d1c"
          ]
        },
        "id": "zFhq8yl1k9tY",
        "outputId": "6928234b-53d9-49ae-bfe1-02d5ae30d526"
      },
      "execution_count": 13,
      "outputs": [
        {
          "output_type": "stream",
          "name": "stdout",
          "text": [
            "['/content/drive/MyDrive/otto/share/example_train2/features/item_item_count.parquet', '/content/drive/MyDrive/otto/share/example_train2/features/item_user_count.parquet', '/content/drive/MyDrive/otto/share/example_train2/features/item_buy_ratio.parquet', '/content/drive/MyDrive/otto/share/example_train2/features/user_user_count.parquet', '/content/drive/MyDrive/otto/share/example_train2/features/user_item_count.parquet']\n",
            "1. prepare candidates\n",
            "Memory usage of dataframe is 215.04 MB\n",
            "Memory usage after optimization is: 215.04 MB\n",
            "Decreased by 0.0%\n",
            "2. prepare features\n"
          ]
        },
        {
          "output_type": "display_data",
          "data": {
            "text/plain": [
              "  0%|          | 0/5 [00:00<?, ?it/s]"
            ],
            "application/vnd.jupyter.widget-view+json": {
              "version_major": 2,
              "version_minor": 0,
              "model_id": "5ec1713732ed4dfbb535fdf35c08da56"
            }
          },
          "metadata": {}
        },
        {
          "output_type": "stream",
          "name": "stdout",
          "text": [
            "Memory usage of dataframe is 126.71 MB\n",
            "Memory usage after optimization is: 105.59 MB\n",
            "Decreased by 16.7%\n",
            "check\n",
            "Memory usage of dataframe is 126.71 MB\n",
            "Memory usage after optimization is: 89.75 MB\n",
            "Decreased by 29.2%\n",
            "check\n",
            "Memory usage of dataframe is 126.71 MB\n",
            "Memory usage after optimization is: 95.03 MB\n",
            "Decreased by 25.0%\n",
            "check\n",
            "Memory usage of dataframe is 126.71 MB\n",
            "Memory usage after optimization is: 95.03 MB\n",
            "Decreased by 25.0%\n",
            "check\n",
            "Memory usage of dataframe is 126.71 MB\n",
            "Memory usage after optimization is: 95.03 MB\n",
            "Decreased by 25.0%\n",
            "check\n",
            "3. prepare labels\n"
          ]
        }
      ]
    },
    {
      "cell_type": "markdown",
      "source": [
        "# train"
      ],
      "metadata": {
        "id": "IOMH9R3xvdco"
      }
    },
    {
      "cell_type": "code",
      "source": [
        "import lightgbm as lgb\n",
        "\n",
        "params = {\n",
        "    'objective': 'lambdarank',\n",
        "    'metric': 'ndcg', #\n",
        "    'lambdarank_truncation_level': 10,\n",
        "    'ndcg_eval_at': 20,\n",
        "    'n_estimators': 10,\n",
        "    'boosting_type': 'dart',\n",
        "    'random_state': 0,\n",
        "}\n",
        "\n",
        "X_train = train_data[FEATURES]\n",
        "y_train = train_data[TARGET]\n",
        "group_train = train_data.groupby('session')['aid'].agg('count').values\n",
        "\n",
        "dtrain = lgb.Dataset(X_train, y_train, group=group_train)\n",
        "model = lgb.train(params, dtrain)\n",
        "\n",
        "pickle.dump(model, open(OTTO_DIR + f'/share/models/v1.pkl','wb'))\n",
        "\n",
        "gc.collect()"
      ],
      "metadata": {
        "colab": {
          "base_uri": "https://localhost:8080/"
        },
        "id": "SmMQvwlJm6Ht",
        "outputId": "3b8d64a4-0e63-47e8-f6d2-7d04c1296c8b"
      },
      "execution_count": 18,
      "outputs": [
        {
          "output_type": "execute_result",
          "data": {
            "text/plain": [
              "115"
            ]
          },
          "metadata": {},
          "execution_count": 18
        }
      ]
    },
    {
      "cell_type": "markdown",
      "source": [
        "## predict"
      ],
      "metadata": {
        "id": "YWKPCiolvYBe"
      }
    },
    {
      "cell_type": "code",
      "source": [
        "test_candidates = Dataset().prepare_dataset(\n",
        "    candidates_file=TEST_CANDIDATES_FILE,\n",
        "    features_dir=FEATURES_DIR,\n",
        "    features=FEATURES,\n",
        "    labels_file=TEST_LABELS_FILE,\n",
        "    target=TARGET,\n",
        ")\n",
        "\n",
        "X_test = test_candidates[FEATURES]\n",
        "\n",
        "# 各candidateに対して、scoreを計算\n",
        "test_candidates['score'] = model.predict(X_test)\n",
        "\n",
        "pred_df = test_candidates[['session', 'aid', 'score']]\n",
        "\n",
        "# session(user)毎に、scoreが高い順に並べて、ランキング情報を付与\n",
        "pred_df['rank'] = pred_df.sort_values(['session','score'], ascending=[True, False]).groupby('session').cumcount().astype('int8') + 1\n",
        "\n",
        "# 各session 1~20位までのデータをlist化\n",
        "pred_df = pred_df.groupby('session')['aid'].apply(list).to_frame().reset_index()\n",
        "\n",
        "pred_df['labels'] = pred_df['aid'].apply(lambda x: \" \".join(map(str,x)))\n",
        "pred_labels = pred_df[['session', 'labels']]"
      ],
      "metadata": {
        "id": "FQRSK334ul6H",
        "colab": {
          "base_uri": "https://localhost:8080/",
          "height": 624,
          "referenced_widgets": [
            "df17bf8cc8ca4747b3dc356135f1c884",
            "e55c275bf5284779b2a12050b4c9122e",
            "e9bd0bdf42104ed88f397eeda6c2d690",
            "87d5b68b64c7471d89f1b0cd60fbe2de",
            "47014849cf9d47909114e3388472c6a4",
            "7b0a604219954a4088c0131549f2f422",
            "8bd82de36e6d4e02aabdb82338566c13",
            "0edc8d50d3cc4dc99ca9c11a7b8d51ed",
            "9ee6ac951be34714a8c1a3dd86ea165a",
            "946dd1f44da447d8a52e6a4d63c9f7ec",
            "064a80e72e9e4d90888fc12a26bf1312"
          ]
        },
        "outputId": "84f4a425-492e-4bbd-99a1-70004969b6a9"
      },
      "execution_count": 19,
      "outputs": [
        {
          "output_type": "stream",
          "name": "stdout",
          "text": [
            "1. prepare candidates\n",
            "Memory usage of dataframe is 215.04 MB\n",
            "Memory usage after optimization is: 215.04 MB\n",
            "Decreased by 0.0%\n",
            "2. prepare features\n"
          ]
        },
        {
          "output_type": "display_data",
          "data": {
            "text/plain": [
              "  0%|          | 0/5 [00:00<?, ?it/s]"
            ],
            "application/vnd.jupyter.widget-view+json": {
              "version_major": 2,
              "version_minor": 0,
              "model_id": "df17bf8cc8ca4747b3dc356135f1c884"
            }
          },
          "metadata": {}
        },
        {
          "output_type": "stream",
          "name": "stdout",
          "text": [
            "Memory usage of dataframe is 126.71 MB\n",
            "Memory usage after optimization is: 105.59 MB\n",
            "Decreased by 16.7%\n",
            "check\n",
            "Memory usage of dataframe is 126.71 MB\n",
            "Memory usage after optimization is: 89.75 MB\n",
            "Decreased by 29.2%\n",
            "check\n",
            "Memory usage of dataframe is 126.71 MB\n",
            "Memory usage after optimization is: 95.03 MB\n",
            "Decreased by 25.0%\n",
            "check\n",
            "Memory usage of dataframe is 126.71 MB\n",
            "Memory usage after optimization is: 95.03 MB\n",
            "Decreased by 25.0%\n",
            "check\n",
            "Memory usage of dataframe is 126.71 MB\n",
            "Memory usage after optimization is: 95.03 MB\n",
            "Decreased by 25.0%\n",
            "check\n",
            "3. prepare labels\n"
          ]
        },
        {
          "output_type": "stream",
          "name": "stderr",
          "text": [
            "<ipython-input-19-f53d28332679>:17: SettingWithCopyWarning: \n",
            "A value is trying to be set on a copy of a slice from a DataFrame.\n",
            "Try using .loc[row_indexer,col_indexer] = value instead\n",
            "\n",
            "See the caveats in the documentation: https://pandas.pydata.org/pandas-docs/stable/user_guide/indexing.html#returning-a-view-versus-a-copy\n",
            "  pred_df['rank'] = pred_df.sort_values(['session','score'], ascending=[True, False]).groupby('session').cumcount().astype('int8') + 1\n"
          ]
        }
      ]
    },
    {
      "cell_type": "code",
      "source": [
        "def calc_recall(test_labels, pred_labels):\n",
        "  test_labels = test_labels.merge(pred_labels, how='left', on='session')\n",
        "\n",
        "  if test_labels['labels'].isnull().any():\n",
        "    message = '推論できていないデータがあります。'\n",
        "    raise Exception(message)\n",
        "\n",
        "  test_labels['hits'] = test_labels.apply(lambda df: len(set(df.ground_truth).intersection(set(df.labels))), axis=1) \n",
        "  test_labels['gt_count'] = test_labels['ground_truth'].str.len().clip(0, 20)\n",
        "  recall = test_labels['hits'].sum() / test_labels['gt_count'].sum()\n",
        "\n",
        "  return recall\n",
        "\n",
        "def evaluate(test_labels_file, pred_labels, target):\n",
        "  recall = calc_recall(test_labels_target, pred_labels)\n",
        "  return recall"
      ],
      "metadata": {
        "id": "jR-l8BwnAqlh"
      },
      "execution_count": 20,
      "outputs": []
    },
    {
      "cell_type": "code",
      "source": [
        "test_labels = pd.read_parquet(TEST_LABELS_FILE)\n",
        "test_labels_target = test_labels[test_labels['type'] == TARGET]\n",
        "# test_labels_target = test_labels_target[test_labels_target['session'].isin(pred_labels['session'])]\n",
        "evaluate(test_labels_target, pred_labels, TARGET)"
      ],
      "metadata": {
        "id": "Acx6ssDXic6a",
        "colab": {
          "base_uri": "https://localhost:8080/"
        },
        "outputId": "d5b47161-6676-4d58-a6e5-46417bda47e8"
      },
      "execution_count": 23,
      "outputs": [
        {
          "output_type": "execute_result",
          "data": {
            "text/plain": [
              "0.0"
            ]
          },
          "metadata": {},
          "execution_count": 23
        }
      ]
    },
    {
      "cell_type": "code",
      "source": [],
      "metadata": {
        "id": "lWUqtmE3QsB4"
      },
      "execution_count": null,
      "outputs": []
    }
  ]
}