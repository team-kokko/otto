{
 "cells": [
  {
   "cell_type": "code",
   "execution_count": 1,
   "id": "41e61187",
   "metadata": {
    "_cell_guid": "591a0d60-76d5-4e8a-a1fd-ad5c9701da56",
    "_uuid": "41d0b75d-bbc8-41a1-aade-0a74157850af",
    "collapsed": false,
    "execution": {
     "iopub.execute_input": "2022-11-19T06:22:13.381735Z",
     "iopub.status.busy": "2022-11-19T06:22:13.381096Z",
     "iopub.status.idle": "2022-11-19T06:22:13.395038Z",
     "shell.execute_reply": "2022-11-19T06:22:13.393834Z"
    },
    "jupyter": {
     "outputs_hidden": false
    },
    "papermill": {
     "duration": 0.021628,
     "end_time": "2022-11-19T06:22:13.397911",
     "exception": false,
     "start_time": "2022-11-19T06:22:13.376283",
     "status": "completed"
    },
    "tags": []
   },
   "outputs": [],
   "source": [
    "# This Python 3 environment comes with many helpful analytics libraries installed\n",
    "# It is defined by the kaggle/python Docker image: https://github.com/kaggle/docker-python\n",
    "# For example, here's several helpful packages to load\n",
    "\n",
    "import numpy as np # linear algebra\n",
    "import pandas as pd # data processing, CSV file I/O (e.g. pd.read_csv)\n",
    "\n",
    "# Input data files are available in the read-only \"../input/\" directory\n",
    "# For example, running this (by clicking run or pressing Shift+Enter) will list all files under the input directory\n",
    "\n",
    "import os\n",
    "for dirname, _, filenames in os.walk('/kaggle/input'):\n",
    "    for filename in filenames:\n",
    "        print(os.path.join(dirname, filename))\n",
    "\n",
    "# You can write up to 20GB to the current directory (/kaggle/working/) that gets preserved as output when you create a version using \"Save & Run All\" \n",
    "# You can also write temporary files to /kaggle/temp/, but they won't be saved outside of the current session"
   ]
  },
  {
   "cell_type": "code",
   "execution_count": null,
   "id": "284e246c",
   "metadata": {
    "papermill": {
     "duration": 0.001352,
     "end_time": "2022-11-19T06:22:13.401274",
     "exception": false,
     "start_time": "2022-11-19T06:22:13.399922",
     "status": "completed"
    },
    "tags": []
   },
   "outputs": [],
   "source": []
  }
 ],
 "metadata": {
  "kernelspec": {
   "display_name": "Python 3",
   "language": "python",
   "name": "python3"
  },
  "language_info": {
   "codemirror_mode": {
    "name": "ipython",
    "version": 3
   },
   "file_extension": ".py",
   "mimetype": "text/x-python",
   "name": "python",
   "nbconvert_exporter": "python",
   "pygments_lexer": "ipython3",
   "version": "3.7.12"
  },
  "papermill": {
   "default_parameters": {},
   "duration": 9.307268,
   "end_time": "2022-11-19T06:22:14.125545",
   "environment_variables": {},
   "exception": null,
   "input_path": "__notebook__.ipynb",
   "output_path": "__notebook__.ipynb",
   "parameters": {},
   "start_time": "2022-11-19T06:22:04.818277",
   "version": "2.3.4"
  }
 },
 "nbformat": 4,
 "nbformat_minor": 5
}
